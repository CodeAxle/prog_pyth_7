{
 "cells": [
  {
   "cell_type": "markdown",
   "id": "a4653b28",
   "metadata": {},
   "source": [
    "# 1."
   ]
  },
  {
   "cell_type": "code",
   "execution_count": 1,
   "id": "8f0e20b7",
   "metadata": {},
   "outputs": [
    {
     "name": "stdout",
     "output_type": "stream",
     "text": [
      "The sum of the array elements is: 150\n"
     ]
    }
   ],
   "source": [
    "# code:\\\n",
    "def array_sum(arr):\n",
    "    # Initialize sum to 0\n",
    "    total = 0\n",
    "    \n",
    "    # Iterate through each element in the array and add it to the sum\n",
    "    for num in arr:\n",
    "        total += num\n",
    "    \n",
    "    return total\n",
    "\n",
    "# Example array\n",
    "array = [10, 20, 30, 40, 50]\n",
    "\n",
    "# Calculate the sum of the array elements\n",
    "sum_of_array = array_sum(array)\n",
    "\n",
    "# Print the sum\n",
    "print(f\"The sum of the array elements is: {sum_of_array}\")"
   ]
  },
  {
   "cell_type": "markdown",
   "id": "79548d9c",
   "metadata": {},
   "source": [
    "# 2."
   ]
  },
  {
   "cell_type": "code",
   "execution_count": 2,
   "id": "e8980b04",
   "metadata": {},
   "outputs": [
    {
     "name": "stdout",
     "output_type": "stream",
     "text": [
      "The largest element in the array is: 30\n"
     ]
    }
   ],
   "source": [
    "# code:\n",
    "def find_largest_element(arr):\n",
    "    # Assume the first element as the largest\n",
    "    largest = arr[0]\n",
    "    \n",
    "    # Iterate through the array to find the largest element\n",
    "    for num in arr:\n",
    "        if num > largest:\n",
    "            largest = num\n",
    "    \n",
    "    return largest\n",
    "\n",
    "# Example array\n",
    "array = [10, 5, 30, 15, 25]\n",
    "\n",
    "# Find the largest element in the array\n",
    "largest_element = find_largest_element(array)\n",
    "\n",
    "# Print the largest element\n",
    "print(f\"The largest element in the array is: {largest_element}\")"
   ]
  },
  {
   "cell_type": "markdown",
   "id": "722231d1",
   "metadata": {},
   "source": [
    "# 3."
   ]
  },
  {
   "cell_type": "code",
   "execution_count": 3,
   "id": "5d0492f2",
   "metadata": {},
   "outputs": [
    {
     "name": "stdout",
     "output_type": "stream",
     "text": [
      "Original Array: [1, 2, 3, 4, 5]\n",
      "Rotated Array (2 rotations): [3, 4, 5, 1, 2]\n"
     ]
    }
   ],
   "source": [
    "# code:\n",
    "def rotate_array(arr, n):\n",
    "    # Calculate the rotation index based on array length\n",
    "    rotation_index = n % len(arr)\n",
    "    \n",
    "    # Rotate the array using slicing\n",
    "    rotated_array = arr[rotation_index:] + arr[:rotation_index]\n",
    "    \n",
    "    return rotated_array\n",
    "\n",
    "# Example array\n",
    "array = [1, 2, 3, 4, 5]\n",
    "\n",
    "# Number of rotations\n",
    "rotations = 2\n",
    "\n",
    "# Rotate the array\n",
    "rotated = rotate_array(array, rotations)\n",
    "\n",
    "# Print the rotated array\n",
    "print(\"Original Array:\", array)\n",
    "print(f\"Rotated Array ({rotations} rotations):\", rotated)"
   ]
  },
  {
   "cell_type": "markdown",
   "id": "a6e85bac",
   "metadata": {},
   "source": [
    "# 4."
   ]
  },
  {
   "cell_type": "code",
   "execution_count": 12,
   "id": "66bd2cad",
   "metadata": {},
   "outputs": [
    {
     "name": "stdout",
     "output_type": "stream",
     "text": [
      "[3, 4, 5, 1, 2]\n"
     ]
    }
   ],
   "source": [
    "# code:\n",
    "def split_and_add_first(arr):\n",
    "    if not arr:\n",
    "        return arr  # Handle empty array case\n",
    "\n",
    "    # Get the length of the array\n",
    "    length = len(arr)\n",
    "\n",
    "    # Determine the split index (middle for even length, floor division for odd)\n",
    "    split_index = length // 2\n",
    "\n",
    "    # Split the array into two parts\n",
    "    first_part = arr[:split_index]\n",
    "    second_part = arr[split_index:]\n",
    "\n",
    "    # Combine the second part and the first part\n",
    "    return second_part + first_part\n",
    "\n",
    "# Example usage\n",
    "my_arr = [1, 2, 3, 4, 5]\n",
    "new_arr = split_and_add_first(my_arr)"
   ]
  },
  {
   "cell_type": "markdown",
   "id": "d182312c",
   "metadata": {},
   "source": [
    "# 5."
   ]
  },
  {
   "cell_type": "code",
   "execution_count": 14,
   "id": "0a0324fc",
   "metadata": {},
   "outputs": [
    {
     "name": "stdout",
     "output_type": "stream",
     "text": [
      "Array 1 is Monotonic: True\n",
      "Array 2 is Monotonic: False\n"
     ]
    }
   ],
   "source": [
    "# code:\n",
    "def is_monotonic(arr):\n",
    "    # Check if the array is empty or has only one element (trivially monotonic)\n",
    "    if len(arr) <= 1:\n",
    "        return True\n",
    "    \n",
    "    increasing = decreasing = True  # Flags for increasing and decreasing order\n",
    "    \n",
    "    # Iterate through the array starting from the second element\n",
    "    for i in range(1, len(arr)):\n",
    "        # Check if the current element is greater than the previous element (not decreasing)\n",
    "        if arr[i] < arr[i - 1]:\n",
    "            increasing = False\n",
    "        # Check if the current element is less than the previous element (not increasing)\n",
    "        if arr[i] > arr[i - 1]:\n",
    "            decreasing = False\n",
    "    \n",
    "    # If either increasing or decreasing flag is True, the array is monotonic\n",
    "    return increasing or decreasing\n",
    "\n",
    "# Example arrays\n",
    "array1 = [1, 2, 3, 4, 5]\n",
    "array2 = [1, 3, 2, 4, 5]\n",
    "\n",
    "# Check if arrays are monotonic\n",
    "print(\"Array 1 is Monotonic:\", is_monotonic(array1))\n",
    "print(\"Array 2 is Monotonic:\", is_monotonic(array2))"
   ]
  },
  {
   "cell_type": "code",
   "execution_count": null,
   "id": "49986e6f",
   "metadata": {},
   "outputs": [],
   "source": []
  }
 ],
 "metadata": {
  "kernelspec": {
   "display_name": "Python 3 (ipykernel)",
   "language": "python",
   "name": "python3"
  },
  "language_info": {
   "codemirror_mode": {
    "name": "ipython",
    "version": 3
   },
   "file_extension": ".py",
   "mimetype": "text/x-python",
   "name": "python",
   "nbconvert_exporter": "python",
   "pygments_lexer": "ipython3",
   "version": "3.11.5"
  }
 },
 "nbformat": 4,
 "nbformat_minor": 5
}
